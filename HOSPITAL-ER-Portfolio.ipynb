{
 "cells": [
  {
   "cell_type": "code",
   "execution_count": 21,
   "metadata": {},
   "outputs": [],
   "source": [
    "import pandas as pd\n",
    "import numpy as np\n"
   ]
  },
  {
   "cell_type": "code",
   "execution_count": 22,
   "metadata": {},
   "outputs": [],
   "source": [
    "df=pd.read_excel(r'C:\\Users\\maryom\\Desktop\\medical data\\ER\\Hospital ER_EDITED.xlsx')"
   ]
  },
  {
   "cell_type": "code",
   "execution_count": 23,
   "metadata": {},
   "outputs": [
    {
     "data": {
      "text/html": [
       "<div>\n",
       "<style scoped>\n",
       "    .dataframe tbody tr th:only-of-type {\n",
       "        vertical-align: middle;\n",
       "    }\n",
       "\n",
       "    .dataframe tbody tr th {\n",
       "        vertical-align: top;\n",
       "    }\n",
       "\n",
       "    .dataframe thead th {\n",
       "        text-align: right;\n",
       "    }\n",
       "</style>\n",
       "<table border=\"1\" class=\"dataframe\">\n",
       "  <thead>\n",
       "    <tr style=\"text-align: right;\">\n",
       "      <th></th>\n",
       "      <th>DATE</th>\n",
       "      <th>TIME</th>\n",
       "      <th>patient_id</th>\n",
       "      <th>patient_gender</th>\n",
       "      <th>patient_age</th>\n",
       "      <th>patient_sat_score</th>\n",
       "      <th>patient_first_inital</th>\n",
       "      <th>patient_last_name</th>\n",
       "      <th>patient_race</th>\n",
       "      <th>patient_admin_flag</th>\n",
       "      <th>patient_waittime</th>\n",
       "      <th>department_referral</th>\n",
       "    </tr>\n",
       "  </thead>\n",
       "  <tbody>\n",
       "    <tr>\n",
       "      <th>0</th>\n",
       "      <td>2019-04-01</td>\n",
       "      <td>2019-04-01 01:13:16</td>\n",
       "      <td>145-39-5406</td>\n",
       "      <td>M</td>\n",
       "      <td>69</td>\n",
       "      <td>10.0</td>\n",
       "      <td>H</td>\n",
       "      <td>Glasspool</td>\n",
       "      <td>White</td>\n",
       "      <td>False</td>\n",
       "      <td>39</td>\n",
       "      <td>None</td>\n",
       "    </tr>\n",
       "    <tr>\n",
       "      <th>1</th>\n",
       "      <td>2019-04-01</td>\n",
       "      <td>2019-04-01 02:13:16</td>\n",
       "      <td>316-34-3057</td>\n",
       "      <td>M</td>\n",
       "      <td>4</td>\n",
       "      <td>NaN</td>\n",
       "      <td>X</td>\n",
       "      <td>Methuen</td>\n",
       "      <td>Native American/Alaska Native</td>\n",
       "      <td>True</td>\n",
       "      <td>27</td>\n",
       "      <td>None</td>\n",
       "    </tr>\n",
       "    <tr>\n",
       "      <th>2</th>\n",
       "      <td>2019-04-01</td>\n",
       "      <td>2019-04-01 03:13:16</td>\n",
       "      <td>897-46-3852</td>\n",
       "      <td>F</td>\n",
       "      <td>56</td>\n",
       "      <td>9.0</td>\n",
       "      <td>P</td>\n",
       "      <td>Schubuser</td>\n",
       "      <td>African American</td>\n",
       "      <td>True</td>\n",
       "      <td>55</td>\n",
       "      <td>General Practice</td>\n",
       "    </tr>\n",
       "    <tr>\n",
       "      <th>3</th>\n",
       "      <td>2019-04-01</td>\n",
       "      <td>2019-04-01 04:13:16</td>\n",
       "      <td>358-31-9711</td>\n",
       "      <td>F</td>\n",
       "      <td>24</td>\n",
       "      <td>8.0</td>\n",
       "      <td>U</td>\n",
       "      <td>Titcombe</td>\n",
       "      <td>Native American/Alaska Native</td>\n",
       "      <td>True</td>\n",
       "      <td>31</td>\n",
       "      <td>General Practice</td>\n",
       "    </tr>\n",
       "    <tr>\n",
       "      <th>4</th>\n",
       "      <td>2019-04-01</td>\n",
       "      <td>2019-04-01 05:13:16</td>\n",
       "      <td>289-26-0537</td>\n",
       "      <td>M</td>\n",
       "      <td>5</td>\n",
       "      <td>NaN</td>\n",
       "      <td>Y</td>\n",
       "      <td>Gionettitti</td>\n",
       "      <td>African American</td>\n",
       "      <td>False</td>\n",
       "      <td>10</td>\n",
       "      <td>Orthopedics</td>\n",
       "    </tr>\n",
       "  </tbody>\n",
       "</table>\n",
       "</div>"
      ],
      "text/plain": [
       "        DATE                TIME   patient_id patient_gender  patient_age  \\\n",
       "0 2019-04-01 2019-04-01 01:13:16  145-39-5406              M           69   \n",
       "1 2019-04-01 2019-04-01 02:13:16  316-34-3057              M            4   \n",
       "2 2019-04-01 2019-04-01 03:13:16  897-46-3852              F           56   \n",
       "3 2019-04-01 2019-04-01 04:13:16  358-31-9711              F           24   \n",
       "4 2019-04-01 2019-04-01 05:13:16  289-26-0537              M            5   \n",
       "\n",
       "   patient_sat_score patient_first_inital patient_last_name  \\\n",
       "0               10.0                    H         Glasspool   \n",
       "1                NaN                    X           Methuen   \n",
       "2                9.0                    P         Schubuser   \n",
       "3                8.0                    U          Titcombe   \n",
       "4                NaN                    Y       Gionettitti   \n",
       "\n",
       "                    patient_race  patient_admin_flag  patient_waittime  \\\n",
       "0                          White               False                39   \n",
       "1  Native American/Alaska Native                True                27   \n",
       "2               African American                True                55   \n",
       "3  Native American/Alaska Native                True                31   \n",
       "4               African American               False                10   \n",
       "\n",
       "  department_referral  \n",
       "0                None  \n",
       "1                None  \n",
       "2    General Practice  \n",
       "3    General Practice  \n",
       "4         Orthopedics  "
      ]
     },
     "execution_count": 23,
     "metadata": {},
     "output_type": "execute_result"
    }
   ],
   "source": [
    "df.head()"
   ]
  },
  {
   "cell_type": "code",
   "execution_count": 24,
   "metadata": {},
   "outputs": [
    {
     "name": "stdout",
     "output_type": "stream",
     "text": [
      "<class 'pandas.core.frame.DataFrame'>\n",
      "RangeIndex: 9216 entries, 0 to 9215\n",
      "Data columns (total 12 columns):\n",
      " #   Column                Non-Null Count  Dtype         \n",
      "---  ------                --------------  -----         \n",
      " 0   DATE                  9216 non-null   datetime64[ns]\n",
      " 1   TIME                  9216 non-null   datetime64[ns]\n",
      " 2   patient_id            9216 non-null   object        \n",
      " 3   patient_gender        9216 non-null   object        \n",
      " 4   patient_age           9216 non-null   int64         \n",
      " 5   patient_sat_score     2517 non-null   float64       \n",
      " 6   patient_first_inital  9216 non-null   object        \n",
      " 7   patient_last_name     9216 non-null   object        \n",
      " 8   patient_race          9216 non-null   object        \n",
      " 9   patient_admin_flag    9216 non-null   bool          \n",
      " 10  patient_waittime      9216 non-null   int64         \n",
      " 11  department_referral   9216 non-null   object        \n",
      "dtypes: bool(1), datetime64[ns](2), float64(1), int64(2), object(6)\n",
      "memory usage: 801.1+ KB\n"
     ]
    }
   ],
   "source": [
    "df.info()"
   ]
  },
  {
   "cell_type": "code",
   "execution_count": 25,
   "metadata": {},
   "outputs": [],
   "source": [
    "df1=df.groupby(df['patient_gender']).patient_id.count()"
   ]
  },
  {
   "cell_type": "code",
   "execution_count": 26,
   "metadata": {},
   "outputs": [],
   "source": [
    "df2=df.groupby(['patient_gender','patient_race']).patient_age.count()"
   ]
  },
  {
   "cell_type": "code",
   "execution_count": 27,
   "metadata": {},
   "outputs": [],
   "source": [
    "df3=df.groupby(['patient_gender','patient_age']).patient_id.count()"
   ]
  },
  {
   "cell_type": "code",
   "execution_count": 126,
   "metadata": {},
   "outputs": [
    {
     "data": {
      "text/plain": [
       "department_referral\n",
       "None                5400\n",
       "General Practice    1840\n",
       "Orthopedics          995\n",
       "Physiotherapy        276\n",
       "Cardiology           248\n",
       "Neurology            193\n",
       "Gastroenterology     178\n",
       "Renal                 86\n",
       "Name: patient_id, dtype: int64"
      ]
     },
     "execution_count": 126,
     "metadata": {},
     "output_type": "execute_result"
    }
   ],
   "source": [
    "#plot\n",
    "df4=df.groupby(['department_referral']).patient_id.count().nlargest(10)\n",
    "df4"
   ]
  },
  {
   "cell_type": "code",
   "execution_count": 85,
   "metadata": {},
   "outputs": [
    {
     "data": {
      "text/plain": [
       "department_referral\n",
       "Neurology           36.803109\n",
       "Physiotherapy       36.565217\n",
       "Gastroenterology    35.831461\n",
       "Cardiology          35.354839\n",
       "None                35.293148\n",
       "Orthopedics         34.982915\n",
       "General Practice    34.912500\n",
       "Renal               34.697674\n",
       "Name: patient_waittime, dtype: float64"
      ]
     },
     "execution_count": 85,
     "metadata": {},
     "output_type": "execute_result"
    }
   ],
   "source": [
    "df.groupby(['department_referral']).patient_waittime.mean().nlargest(10)"
   ]
  },
  {
   "cell_type": "code",
   "execution_count": 86,
   "metadata": {},
   "outputs": [
    {
     "data": {
      "text/html": [
       "<div>\n",
       "<style scoped>\n",
       "    .dataframe tbody tr th:only-of-type {\n",
       "        vertical-align: middle;\n",
       "    }\n",
       "\n",
       "    .dataframe tbody tr th {\n",
       "        vertical-align: top;\n",
       "    }\n",
       "\n",
       "    .dataframe thead th {\n",
       "        text-align: right;\n",
       "    }\n",
       "</style>\n",
       "<table border=\"1\" class=\"dataframe\">\n",
       "  <thead>\n",
       "    <tr style=\"text-align: right;\">\n",
       "      <th></th>\n",
       "      <th>mean</th>\n",
       "      <th>min</th>\n",
       "      <th>max</th>\n",
       "    </tr>\n",
       "    <tr>\n",
       "      <th>patient_gender</th>\n",
       "      <th></th>\n",
       "      <th></th>\n",
       "      <th></th>\n",
       "    </tr>\n",
       "  </thead>\n",
       "  <tbody>\n",
       "    <tr>\n",
       "      <th>F</th>\n",
       "      <td>35.105416</td>\n",
       "      <td>10</td>\n",
       "      <td>60</td>\n",
       "    </tr>\n",
       "    <tr>\n",
       "      <th>M</th>\n",
       "      <td>35.397450</td>\n",
       "      <td>10</td>\n",
       "      <td>60</td>\n",
       "    </tr>\n",
       "    <tr>\n",
       "      <th>NC</th>\n",
       "      <td>37.166667</td>\n",
       "      <td>10</td>\n",
       "      <td>59</td>\n",
       "    </tr>\n",
       "  </tbody>\n",
       "</table>\n",
       "</div>"
      ],
      "text/plain": [
       "                     mean  min  max\n",
       "patient_gender                     \n",
       "F               35.105416   10   60\n",
       "M               35.397450   10   60\n",
       "NC              37.166667   10   59"
      ]
     },
     "execution_count": 86,
     "metadata": {},
     "output_type": "execute_result"
    }
   ],
   "source": [
    "df.groupby(['patient_gender']).patient_waittime.agg(['mean','min','max'])"
   ]
  },
  {
   "cell_type": "code",
   "execution_count": 90,
   "metadata": {},
   "outputs": [
    {
     "data": {
      "text/plain": [
       "min      1.000000\n",
       "max     24.000000\n",
       "mean    23.937662\n",
       "Name: patient_id, dtype: float64"
      ]
     },
     "execution_count": 90,
     "metadata": {},
     "output_type": "execute_result"
    }
   ],
   "source": [
    "df.groupby(['DATE']).patient_id.count().agg(['min','max','mean'])"
   ]
  },
  {
   "cell_type": "code",
   "execution_count": 106,
   "metadata": {},
   "outputs": [
    {
     "data": {
      "text/plain": [
       "department_referral\n",
       "Cardiology          5.140845\n",
       "Gastroenterology    5.796296\n",
       "General Practice    5.061630\n",
       "Neurology           5.283019\n",
       "None                4.953472\n",
       "Orthopedics         4.858621\n",
       "Physiotherapy       4.987952\n",
       "Renal               4.565217\n",
       "Name: patient_sat_score, dtype: float64"
      ]
     },
     "execution_count": 106,
     "metadata": {},
     "output_type": "execute_result"
    }
   ],
   "source": [
    "#plot\n",
    "df.groupby(['department_referral']).patient_sat_score.mean()"
   ]
  },
  {
   "cell_type": "code",
   "execution_count": 113,
   "metadata": {},
   "outputs": [
    {
     "data": {
      "text/plain": [
       "department_referral  patient_admin_flag\n",
       "None                 True                  2736\n",
       "                     False                 2664\n",
       "General Practice     False                  953\n",
       "                     True                   887\n",
       "Orthopedics          True                   498\n",
       "                     False                  497\n",
       "Physiotherapy        False                  139\n",
       "                     True                   137\n",
       "Cardiology           False                  126\n",
       "                     True                   122\n",
       "Neurology            True                    97\n",
       "                     False                   96\n",
       "Gastroenterology     False                   89\n",
       "                     True                    89\n",
       "Renal                True                    46\n",
       "                     False                   40\n",
       "Name: patient_admin_flag, dtype: int64"
      ]
     },
     "execution_count": 113,
     "metadata": {},
     "output_type": "execute_result"
    }
   ],
   "source": [
    "df.groupby(['department_referral','patient_admin_flag']).patient_admin_flag.count().nlargest(20)"
   ]
  },
  {
   "cell_type": "code",
   "execution_count": 123,
   "metadata": {},
   "outputs": [
    {
     "data": {
      "text/plain": [
       "patient_gender  department_referral\n",
       "F               Cardiology              118\n",
       "                Gastroenterology        100\n",
       "                General Practice        906\n",
       "                Neurology               100\n",
       "                None                   2629\n",
       "                Orthopedics             453\n",
       "                Physiotherapy           139\n",
       "                Renal                    42\n",
       "M               Cardiology              130\n",
       "                Gastroenterology         77\n",
       "                General Practice        928\n",
       "                Neurology                93\n",
       "                None                   2757\n",
       "                Orthopedics             539\n",
       "                Physiotherapy           137\n",
       "                Renal                    44\n",
       "NC              Gastroenterology          1\n",
       "                General Practice          6\n",
       "                None                     14\n",
       "                Orthopedics               3\n",
       "Name: patient_id, dtype: int64"
      ]
     },
     "execution_count": 123,
     "metadata": {},
     "output_type": "execute_result"
    }
   ],
   "source": [
    "#plot\n",
    "df.groupby(['patient_gender','department_referral']).patient_id.count()"
   ]
  }
 ],
 "metadata": {
  "kernelspec": {
   "display_name": "Python 3",
   "language": "python",
   "name": "python3"
  },
  "language_info": {
   "codemirror_mode": {
    "name": "ipython",
    "version": 3
   },
   "file_extension": ".py",
   "mimetype": "text/x-python",
   "name": "python",
   "nbconvert_exporter": "python",
   "pygments_lexer": "ipython3",
   "version": "3.7.0"
  }
 },
 "nbformat": 4,
 "nbformat_minor": 2
}
